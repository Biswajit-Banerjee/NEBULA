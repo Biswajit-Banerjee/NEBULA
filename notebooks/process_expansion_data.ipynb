{
 "cells": [
  {
   "cell_type": "code",
   "execution_count": 1,
   "metadata": {},
   "outputs": [],
   "source": [
    "import pandas as pd\n",
    "import re"
   ]
  },
  {
   "cell_type": "code",
   "execution_count": 2,
   "metadata": {},
   "outputs": [],
   "source": [
    "file_path = 'network_expansion2.xlsx'\n",
    "sim_df = pd.read_excel(file_path, sheet_name='TableS1')\n",
    "gen_df = pd.read_excel(file_path, sheet_name='TableS5').set_index(\"compound_id\")"
   ]
  },
  {
   "cell_type": "code",
   "execution_count": 3,
   "metadata": {},
   "outputs": [],
   "source": [
    "gen_df.modified = gen_df.modified.astype('float32')"
   ]
  },
  {
   "cell_type": "code",
   "execution_count": 4,
   "metadata": {},
   "outputs": [],
   "source": [
    "gen_mapper = gen_df['modified'].to_dict()"
   ]
  },
  {
   "cell_type": "code",
   "execution_count": 5,
   "metadata": {},
   "outputs": [],
   "source": [
    "sim_df.columns = ['reaction', 'direction', 'source', 'coenzyme', 'equation']"
   ]
  },
  {
   "cell_type": "code",
   "execution_count": 6,
   "metadata": {},
   "outputs": [],
   "source": [
    "sim_df.loc[:, \"reactants\"] = sim_df.equation.str.split(\" => \", expand=True)[0]\n",
    "sim_df.loc[:, \"products\"]  = sim_df.equation.str.split(\" => \", expand=True)[1]"
   ]
  },
  {
   "cell_type": "code",
   "execution_count": 7,
   "metadata": {},
   "outputs": [
    {
     "data": {
      "text/plain": [
       "-1.0"
      ]
     },
     "execution_count": 7,
     "metadata": {},
     "output_type": "execute_result"
    }
   ],
   "source": [
    "def extract_compounds(st):\n",
    "    all_compounds = re.findall(\"([CZ][0-9]{5})\", st)\n",
    "    return all_compounds\n",
    "\n",
    "def max_gen(compounds, gen_mapper):\n",
    "    all_gens = list(map(lambda x: gen_mapper.get(x, -1.0), compounds))\n",
    "    \n",
    "    if len(all_gens) > 0:\n",
    "        max_compound_gen = max(all_gens)\n",
    "    else:\n",
    "        max_compound_gen = -1.0 \n",
    "    return max_compound_gen\n",
    "\n",
    "def map_generation(st, gen_mapper):\n",
    "    compounds = extract_compounds(st)\n",
    "    gen = max_gen(compounds, gen_mapper)\n",
    "    return gen \n",
    "\n",
    "map_generation(\"C01839\", gen_mapper)"
   ]
  },
  {
   "cell_type": "code",
   "execution_count": null,
   "metadata": {},
   "outputs": [],
   "source": []
  },
  {
   "cell_type": "code",
   "execution_count": 8,
   "metadata": {},
   "outputs": [],
   "source": [
    "sim_df.loc[:, \"reactant_gen\"] = sim_df.reactants.apply(lambda x: map_generation(x, gen_mapper))\n",
    "sim_df.loc[:, \"product_gen\"]  = sim_df.products.apply(lambda x: map_generation(x, gen_mapper))"
   ]
  },
  {
   "cell_type": "code",
   "execution_count": 23,
   "metadata": {},
   "outputs": [],
   "source": [
    "sim_df = sim_df[(sim_df.product_gen >=  sim_df.reactant_gen) & (sim_df.product_gen >= 0) & (sim_df.reactant_gen >= 0)]"
   ]
  },
  {
   "cell_type": "code",
   "execution_count": 24,
   "metadata": {},
   "outputs": [],
   "source": [
    "sim_df.loc[:, \"generation\"] = (sim_df.reactant_gen + sim_df.product_gen) / 2"
   ]
  },
  {
   "cell_type": "code",
   "execution_count": 27,
   "metadata": {},
   "outputs": [
    {
     "data": {
      "text/plain": [
       "99.5"
      ]
     },
     "execution_count": 27,
     "metadata": {},
     "output_type": "execute_result"
    }
   ],
   "source": [
    "sim_df.generation.max()"
   ]
  },
  {
   "cell_type": "code",
   "execution_count": 29,
   "metadata": {},
   "outputs": [
    {
     "data": {
      "text/html": [
       "<div>\n",
       "<style scoped>\n",
       "    .dataframe tbody tr th:only-of-type {\n",
       "        vertical-align: middle;\n",
       "    }\n",
       "\n",
       "    .dataframe tbody tr th {\n",
       "        vertical-align: top;\n",
       "    }\n",
       "\n",
       "    .dataframe thead th {\n",
       "        text-align: right;\n",
       "    }\n",
       "</style>\n",
       "<table border=\"1\" class=\"dataframe\">\n",
       "  <thead>\n",
       "    <tr style=\"text-align: right;\">\n",
       "      <th></th>\n",
       "      <th>reaction</th>\n",
       "      <th>ec_list</th>\n",
       "    </tr>\n",
       "  </thead>\n",
       "  <tbody>\n",
       "    <tr>\n",
       "      <th>12</th>\n",
       "      <td>R00636</td>\n",
       "      <td>4.1.1.1</td>\n",
       "    </tr>\n",
       "    <tr>\n",
       "      <th>13</th>\n",
       "      <td>R00636</td>\n",
       "      <td>4.1.1.1</td>\n",
       "    </tr>\n",
       "    <tr>\n",
       "      <th>14</th>\n",
       "      <td>R00217_v1</td>\n",
       "      <td>1.1.1.38, 1.1.1.40, 4.1.1.112</td>\n",
       "    </tr>\n",
       "    <tr>\n",
       "      <th>15</th>\n",
       "      <td>R00217_v1</td>\n",
       "      <td>1.1.1.38, 1.1.1.40, 4.1.1.112</td>\n",
       "    </tr>\n",
       "    <tr>\n",
       "      <th>16</th>\n",
       "      <td>R00217_v2</td>\n",
       "      <td>1.1.1.38, 1.1.1.40, 4.1.1.112</td>\n",
       "    </tr>\n",
       "  </tbody>\n",
       "</table>\n",
       "</div>"
      ],
      "text/plain": [
       "     reaction                        ec_list\n",
       "12     R00636                        4.1.1.1\n",
       "13     R00636                        4.1.1.1\n",
       "14  R00217_v1  1.1.1.38, 1.1.1.40, 4.1.1.112\n",
       "15  R00217_v1  1.1.1.38, 1.1.1.40, 4.1.1.112\n",
       "16  R00217_v2  1.1.1.38, 1.1.1.40, 4.1.1.112"
      ]
     },
     "execution_count": 29,
     "metadata": {},
     "output_type": "execute_result"
    }
   ],
   "source": [
    "ec_df = pd.read_csv('simulations.csv')\n",
    "ec_df = ec_df[~ec_df.ec_list.isna()][['reaction', 'ec_list']]\n",
    "ec_df.head()"
   ]
  },
  {
   "cell_type": "code",
   "execution_count": 32,
   "metadata": {},
   "outputs": [],
   "source": [
    "df = pd.merge(sim_df, ec_df, on=\"reaction\", how='left')\n",
    "df = df.sort_values(\"generation\")"
   ]
  },
  {
   "cell_type": "code",
   "execution_count": 33,
   "metadata": {},
   "outputs": [],
   "source": [
    "df.to_csv('simulations.csv')"
   ]
  },
  {
   "cell_type": "code",
   "execution_count": null,
   "metadata": {},
   "outputs": [],
   "source": []
  }
 ],
 "metadata": {
  "kernelspec": {
   "display_name": "base",
   "language": "python",
   "name": "python3"
  },
  "language_info": {
   "codemirror_mode": {
    "name": "ipython",
    "version": 3
   },
   "file_extension": ".py",
   "mimetype": "text/x-python",
   "name": "python",
   "nbconvert_exporter": "python",
   "pygments_lexer": "ipython3",
   "version": "3.11.5"
  }
 },
 "nbformat": 4,
 "nbformat_minor": 2
}
